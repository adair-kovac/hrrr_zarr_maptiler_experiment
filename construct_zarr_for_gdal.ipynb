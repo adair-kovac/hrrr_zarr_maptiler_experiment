{
 "cells": [
  {
   "cell_type": "code",
   "execution_count": 1,
   "id": "1475a205-c300-40a5-87f3-aefb1524dc24",
   "metadata": {},
   "outputs": [
    {
     "data": {
      "text/plain": [
       "<zarr.core.Array (1059, 1799) float16>"
      ]
     },
     "execution_count": 1,
     "metadata": {},
     "output_type": "execute_result"
    }
   ],
   "source": [
    "import s3fs\n",
    "import zarr\n",
    "\n",
    "url = \"s3://hrrrzarr/sfc/20210601/20210601_00z_anl.zarr/surface/TMP/surface/TMP\"\n",
    "fs = s3fs.S3FileSystem(anon=True)\n",
    "temperature = zarr.open(s3fs.S3Map(url, s3=fs))\n",
    "temperature"
   ]
  },
  {
   "cell_type": "code",
   "execution_count": 2,
   "id": "b1e2faa3-cc6d-40d8-a7b0-391e86d7f352",
   "metadata": {},
   "outputs": [],
   "source": [
    "new_store = zarr.DirectoryStore(\"data/example_temp\")\n",
    "temp = zarr.group(new_store)\n",
    "temp[\"TMP\"] = temperature[...]"
   ]
  },
  {
   "cell_type": "code",
   "execution_count": 3,
   "id": "760421f4-3ce9-45b8-8425-35769c6767e3",
   "metadata": {},
   "outputs": [],
   "source": [
    "temp.attrs[\"_CRS\"] = \"test\""
   ]
  },
  {
   "cell_type": "code",
   "execution_count": 4,
   "id": "3c18da3f-9b5b-4890-97da-47250fc1b73f",
   "metadata": {},
   "outputs": [
    {
     "name": "stdout",
     "output_type": "stream",
     "text": [
      "{\n",
      "    \"_CRS\": \"test\"\n",
      "}"
     ]
    }
   ],
   "source": [
    "! cat data/example_temp/.zattrs "
   ]
  },
  {
   "cell_type": "markdown",
   "id": "c27c39b8-cb09-4b17-aa0d-490336c6ebef",
   "metadata": {},
   "source": [
    "Okay, so I can create the local data structure and modify the attributes. Now, I need to try to figure out a good representation of the CRS... which means I'll need to set up reading it in rio_tiler so I can know whether I succeeded or not."
   ]
  },
  {
   "cell_type": "code",
   "execution_count": 5,
   "id": "c6b5e94a-f59e-4b32-b9e8-b60a6a177e5c",
   "metadata": {},
   "outputs": [
    {
     "name": "stderr",
     "output_type": "stream",
     "text": [
      "/opt/anaconda3/envs/titiler/lib/python3.8/site-packages/pyproj/__init__.py:90: UserWarning: pyproj unable to set database path.\n",
      "  _pyproj_global_context_initialize()\n"
     ]
    }
   ],
   "source": [
    "import os\n",
    "import pyproj\n",
    "os.environ[\"PROJ_LIB\"] = \"/opt/anaconda3/envs/titiler/share/proj\"\n",
    "pyproj.datadir.set_data_dir(\"/opt/anaconda3/envs/titiler/share/proj\")"
   ]
  },
  {
   "cell_type": "code",
   "execution_count": 6,
   "id": "278e7ff6-9e36-4ac6-8fc8-03e7927bd4b0",
   "metadata": {
    "collapsed": true,
    "jupyter": {
     "outputs_hidden": true
    },
    "tags": []
   },
   "outputs": [
    {
     "name": "stderr",
     "output_type": "stream",
     "text": [
      "/opt/anaconda3/envs/titiler/lib/python3.8/site-packages/rasterio/__init__.py:277: NotGeoreferencedWarning: Dataset has no geotransform, gcps, or rpcs. The identity matrix will be returned.\n",
      "  dataset = DatasetReader(path, driver=driver, sharing=sharing, **kwargs)\n",
      "/opt/anaconda3/envs/titiler/lib/python3.8/site-packages/rio_tiler/io/cogeo.py:149: NoOverviewWarning: The dataset has no Overviews. rio-tiler performances might be impacted.\n",
      "  warnings.warn(\n",
      "ERROR 1: Unable to compute a transformation between pixel/line and georeferenced coordinates for data/example_temp. There is no affine transformation and no GCPs. Specify transformation option SRC_METHOD=NO_GEOTRANSFORM to bypass this check.\n"
     ]
    },
    {
     "name": "stdout",
     "output_type": "stream",
     "text": [
      "<open DatasetReader name='data/example_temp' mode='r'>\n"
     ]
    },
    {
     "ename": "CPLE_AppDefinedError",
     "evalue": "Unable to compute a transformation between pixel/line and georeferenced coordinates for data/example_temp. There is no affine transformation and no GCPs. Specify transformation option SRC_METHOD=NO_GEOTRANSFORM to bypass this check.",
     "output_type": "error",
     "traceback": [
      "\u001b[0;31m---------------------------------------------------------------------------\u001b[0m",
      "\u001b[0;31mCPLE_AppDefinedError\u001b[0m                      Traceback (most recent call last)",
      "Input \u001b[0;32mIn [6]\u001b[0m, in \u001b[0;36m<cell line: 4>\u001b[0;34m()\u001b[0m\n\u001b[1;32m      4\u001b[0m \u001b[38;5;28;01mwith\u001b[39;00m COGReader(\u001b[38;5;124m\"\u001b[39m\u001b[38;5;124mdata/example_temp\u001b[39m\u001b[38;5;124m\"\u001b[39m) \u001b[38;5;28;01mas\u001b[39;00m image:\n\u001b[1;32m      5\u001b[0m     \u001b[38;5;28mprint\u001b[39m(image\u001b[38;5;241m.\u001b[39mdataset)  \u001b[38;5;66;03m# rasterio opened dataset\u001b[39;00m\n\u001b[0;32m----> 6\u001b[0m     img \u001b[38;5;241m=\u001b[39m \u001b[43mimage\u001b[49m\u001b[38;5;241;43m.\u001b[39;49m\u001b[43mread\u001b[49m\u001b[43m(\u001b[49m\u001b[43m)\u001b[49m  \n\u001b[1;32m      7\u001b[0m     \u001b[38;5;28mprint\u001b[39m(\u001b[38;5;124mf\u001b[39m\u001b[38;5;124m\"\u001b[39m\u001b[38;5;124mImage crs: \u001b[39m\u001b[38;5;132;01m{\u001b[39;00mimage\u001b[38;5;241m.\u001b[39mcrs\u001b[38;5;132;01m}\u001b[39;00m\u001b[38;5;124m\"\u001b[39m)\n",
      "File \u001b[0;32m/opt/anaconda3/envs/titiler/lib/python3.8/site-packages/rio_tiler/io/cogeo.py:641\u001b[0m, in \u001b[0;36mCOGReader.read\u001b[0;34m(self, indexes, expression, **kwargs)\u001b[0m\n\u001b[1;32m    638\u001b[0m \u001b[38;5;28;01mif\u001b[39;00m expression:\n\u001b[1;32m    639\u001b[0m     indexes \u001b[38;5;241m=\u001b[39m parse_expression(expression)\n\u001b[0;32m--> 641\u001b[0m data, mask \u001b[38;5;241m=\u001b[39m \u001b[43mreader\u001b[49m\u001b[38;5;241;43m.\u001b[39;49m\u001b[43mread\u001b[49m\u001b[43m(\u001b[49m\u001b[38;5;28;43mself\u001b[39;49m\u001b[38;5;241;43m.\u001b[39;49m\u001b[43mdataset\u001b[49m\u001b[43m,\u001b[49m\u001b[43m \u001b[49m\u001b[43mindexes\u001b[49m\u001b[38;5;241;43m=\u001b[39;49m\u001b[43mindexes\u001b[49m\u001b[43m,\u001b[49m\u001b[43m \u001b[49m\u001b[38;5;241;43m*\u001b[39;49m\u001b[38;5;241;43m*\u001b[39;49m\u001b[43mkwargs\u001b[49m\u001b[43m)\u001b[49m\n\u001b[1;32m    643\u001b[0m \u001b[38;5;28;01mif\u001b[39;00m expression \u001b[38;5;129;01mand\u001b[39;00m indexes:\n\u001b[1;32m    644\u001b[0m     blocks \u001b[38;5;241m=\u001b[39m get_expression_blocks(expression)\n",
      "File \u001b[0;32m/opt/anaconda3/envs/titiler/lib/python3.8/site-packages/rio_tiler/reader.py:79\u001b[0m, in \u001b[0;36mread\u001b[0;34m(src_dst, height, width, indexes, window, force_binary_mask, nodata, unscale, resampling_method, vrt_options, post_process)\u001b[0m\n\u001b[1;32m     76\u001b[0m \u001b[38;5;28;01mif\u001b[39;00m vrt_options:\n\u001b[1;32m     77\u001b[0m     vrt_params\u001b[38;5;241m.\u001b[39mupdate(vrt_options)\n\u001b[0;32m---> 79\u001b[0m \u001b[38;5;28;01mwith\u001b[39;00m \u001b[43mWarpedVRT\u001b[49m\u001b[43m(\u001b[49m\u001b[43msrc_dst\u001b[49m\u001b[43m,\u001b[49m\u001b[43m \u001b[49m\u001b[38;5;241;43m*\u001b[39;49m\u001b[38;5;241;43m*\u001b[39;49m\u001b[43mvrt_params\u001b[49m\u001b[43m)\u001b[49m \u001b[38;5;28;01mas\u001b[39;00m vrt:\n\u001b[1;32m     80\u001b[0m     \u001b[38;5;28;01mif\u001b[39;00m ColorInterp\u001b[38;5;241m.\u001b[39malpha \u001b[38;5;129;01min\u001b[39;00m vrt\u001b[38;5;241m.\u001b[39mcolorinterp:\n\u001b[1;32m     81\u001b[0m         indexes \u001b[38;5;241m=\u001b[39m \u001b[38;5;28mtuple\u001b[39m(indexes) \u001b[38;5;241m+\u001b[39m (vrt\u001b[38;5;241m.\u001b[39mcolorinterp\u001b[38;5;241m.\u001b[39mindex(ColorInterp\u001b[38;5;241m.\u001b[39malpha) \u001b[38;5;241m+\u001b[39m \u001b[38;5;241m1\u001b[39m,)\n",
      "File \u001b[0;32mrasterio/_warp.pyx:1021\u001b[0m, in \u001b[0;36mrasterio._warp.WarpedVRTReaderBase.__init__\u001b[0;34m()\u001b[0m\n",
      "File \u001b[0;32mrasterio/_warp.pyx:774\u001b[0m, in \u001b[0;36mrasterio._warp.auto_create_warped_vrt\u001b[0;34m()\u001b[0m\n",
      "File \u001b[0;32mrasterio/_warp.pyx:768\u001b[0m, in \u001b[0;36mrasterio._warp.auto_create_warped_vrt\u001b[0;34m()\u001b[0m\n",
      "File \u001b[0;32mrasterio/_err.pyx:178\u001b[0m, in \u001b[0;36mrasterio._err.exc_wrap\u001b[0;34m()\u001b[0m\n",
      "\u001b[0;31mCPLE_AppDefinedError\u001b[0m: Unable to compute a transformation between pixel/line and georeferenced coordinates for data/example_temp. There is no affine transformation and no GCPs. Specify transformation option SRC_METHOD=NO_GEOTRANSFORM to bypass this check."
     ]
    }
   ],
   "source": [
    "from rio_tiler.io import COGReader\n",
    "\n",
    "\n",
    "with COGReader(\"data/example_temp\") as image:\n",
    "    print(image.dataset)  # rasterio opened dataset\n",
    "    img = image.read()  \n",
    "    print(f\"Image crs: {image.crs}\")"
   ]
  },
  {
   "cell_type": "code",
   "execution_count": 7,
   "id": "431c5c3f-4b40-433e-9502-79767492fa67",
   "metadata": {},
   "outputs": [],
   "source": [
    "proj_params = {'a': 6371229,\n",
    "   'b': 6371229,\n",
    "   'proj': 'lcc',\n",
    "   'lon_0': 262.5,\n",
    "   'lat_0': 38.5,\n",
    "   'lat_1': 38.5,\n",
    "   'lat_2': 38.5}\n",
    "\n",
    "# This doesn't look like the right \"projjson\" format per the example in gdal documentation, but it's worth a try\n",
    "temp.attrs[\"_CRS\"] = {\"projjson\": proj_params}"
   ]
  },
  {
   "cell_type": "code",
   "execution_count": 8,
   "id": "f50281a5-20c6-4b32-97a8-318e1b6bd5cc",
   "metadata": {
    "collapsed": true,
    "jupyter": {
     "outputs_hidden": true
    },
    "tags": []
   },
   "outputs": [
    {
     "name": "stdout",
     "output_type": "stream",
     "text": [
      "<open DatasetReader name='data/example_temp' mode='r'>\n"
     ]
    },
    {
     "name": "stderr",
     "output_type": "stream",
     "text": [
      "ERROR 1: Unable to compute a transformation between pixel/line and georeferenced coordinates for data/example_temp. There is no affine transformation and no GCPs. Specify transformation option SRC_METHOD=NO_GEOTRANSFORM to bypass this check.\n"
     ]
    },
    {
     "ename": "CPLE_AppDefinedError",
     "evalue": "Unable to compute a transformation between pixel/line and georeferenced coordinates for data/example_temp. There is no affine transformation and no GCPs. Specify transformation option SRC_METHOD=NO_GEOTRANSFORM to bypass this check.",
     "output_type": "error",
     "traceback": [
      "\u001b[0;31m---------------------------------------------------------------------------\u001b[0m",
      "\u001b[0;31mCPLE_AppDefinedError\u001b[0m                      Traceback (most recent call last)",
      "Input \u001b[0;32mIn [8]\u001b[0m, in \u001b[0;36m<cell line: 1>\u001b[0;34m()\u001b[0m\n\u001b[1;32m      1\u001b[0m \u001b[38;5;28;01mwith\u001b[39;00m COGReader(\u001b[38;5;124m\"\u001b[39m\u001b[38;5;124mdata/example_temp\u001b[39m\u001b[38;5;124m\"\u001b[39m) \u001b[38;5;28;01mas\u001b[39;00m image:\n\u001b[1;32m      2\u001b[0m     \u001b[38;5;28mprint\u001b[39m(image\u001b[38;5;241m.\u001b[39mdataset)  \u001b[38;5;66;03m# rasterio opened dataset\u001b[39;00m\n\u001b[0;32m----> 3\u001b[0m     img \u001b[38;5;241m=\u001b[39m \u001b[43mimage\u001b[49m\u001b[38;5;241;43m.\u001b[39;49m\u001b[43mread\u001b[49m\u001b[43m(\u001b[49m\u001b[43m)\u001b[49m  \n\u001b[1;32m      4\u001b[0m     \u001b[38;5;28mprint\u001b[39m(\u001b[38;5;124mf\u001b[39m\u001b[38;5;124m\"\u001b[39m\u001b[38;5;124mImage crs: \u001b[39m\u001b[38;5;132;01m{\u001b[39;00mimage\u001b[38;5;241m.\u001b[39mcrs\u001b[38;5;132;01m}\u001b[39;00m\u001b[38;5;124m\"\u001b[39m)\n",
      "File \u001b[0;32m/opt/anaconda3/envs/titiler/lib/python3.8/site-packages/rio_tiler/io/cogeo.py:641\u001b[0m, in \u001b[0;36mCOGReader.read\u001b[0;34m(self, indexes, expression, **kwargs)\u001b[0m\n\u001b[1;32m    638\u001b[0m \u001b[38;5;28;01mif\u001b[39;00m expression:\n\u001b[1;32m    639\u001b[0m     indexes \u001b[38;5;241m=\u001b[39m parse_expression(expression)\n\u001b[0;32m--> 641\u001b[0m data, mask \u001b[38;5;241m=\u001b[39m \u001b[43mreader\u001b[49m\u001b[38;5;241;43m.\u001b[39;49m\u001b[43mread\u001b[49m\u001b[43m(\u001b[49m\u001b[38;5;28;43mself\u001b[39;49m\u001b[38;5;241;43m.\u001b[39;49m\u001b[43mdataset\u001b[49m\u001b[43m,\u001b[49m\u001b[43m \u001b[49m\u001b[43mindexes\u001b[49m\u001b[38;5;241;43m=\u001b[39;49m\u001b[43mindexes\u001b[49m\u001b[43m,\u001b[49m\u001b[43m \u001b[49m\u001b[38;5;241;43m*\u001b[39;49m\u001b[38;5;241;43m*\u001b[39;49m\u001b[43mkwargs\u001b[49m\u001b[43m)\u001b[49m\n\u001b[1;32m    643\u001b[0m \u001b[38;5;28;01mif\u001b[39;00m expression \u001b[38;5;129;01mand\u001b[39;00m indexes:\n\u001b[1;32m    644\u001b[0m     blocks \u001b[38;5;241m=\u001b[39m get_expression_blocks(expression)\n",
      "File \u001b[0;32m/opt/anaconda3/envs/titiler/lib/python3.8/site-packages/rio_tiler/reader.py:79\u001b[0m, in \u001b[0;36mread\u001b[0;34m(src_dst, height, width, indexes, window, force_binary_mask, nodata, unscale, resampling_method, vrt_options, post_process)\u001b[0m\n\u001b[1;32m     76\u001b[0m \u001b[38;5;28;01mif\u001b[39;00m vrt_options:\n\u001b[1;32m     77\u001b[0m     vrt_params\u001b[38;5;241m.\u001b[39mupdate(vrt_options)\n\u001b[0;32m---> 79\u001b[0m \u001b[38;5;28;01mwith\u001b[39;00m \u001b[43mWarpedVRT\u001b[49m\u001b[43m(\u001b[49m\u001b[43msrc_dst\u001b[49m\u001b[43m,\u001b[49m\u001b[43m \u001b[49m\u001b[38;5;241;43m*\u001b[39;49m\u001b[38;5;241;43m*\u001b[39;49m\u001b[43mvrt_params\u001b[49m\u001b[43m)\u001b[49m \u001b[38;5;28;01mas\u001b[39;00m vrt:\n\u001b[1;32m     80\u001b[0m     \u001b[38;5;28;01mif\u001b[39;00m ColorInterp\u001b[38;5;241m.\u001b[39malpha \u001b[38;5;129;01min\u001b[39;00m vrt\u001b[38;5;241m.\u001b[39mcolorinterp:\n\u001b[1;32m     81\u001b[0m         indexes \u001b[38;5;241m=\u001b[39m \u001b[38;5;28mtuple\u001b[39m(indexes) \u001b[38;5;241m+\u001b[39m (vrt\u001b[38;5;241m.\u001b[39mcolorinterp\u001b[38;5;241m.\u001b[39mindex(ColorInterp\u001b[38;5;241m.\u001b[39malpha) \u001b[38;5;241m+\u001b[39m \u001b[38;5;241m1\u001b[39m,)\n",
      "File \u001b[0;32mrasterio/_warp.pyx:1021\u001b[0m, in \u001b[0;36mrasterio._warp.WarpedVRTReaderBase.__init__\u001b[0;34m()\u001b[0m\n",
      "File \u001b[0;32mrasterio/_warp.pyx:774\u001b[0m, in \u001b[0;36mrasterio._warp.auto_create_warped_vrt\u001b[0;34m()\u001b[0m\n",
      "File \u001b[0;32mrasterio/_warp.pyx:768\u001b[0m, in \u001b[0;36mrasterio._warp.auto_create_warped_vrt\u001b[0;34m()\u001b[0m\n",
      "File \u001b[0;32mrasterio/_err.pyx:178\u001b[0m, in \u001b[0;36mrasterio._err.exc_wrap\u001b[0;34m()\u001b[0m\n",
      "\u001b[0;31mCPLE_AppDefinedError\u001b[0m: Unable to compute a transformation between pixel/line and georeferenced coordinates for data/example_temp. There is no affine transformation and no GCPs. Specify transformation option SRC_METHOD=NO_GEOTRANSFORM to bypass this check."
     ]
    }
   ],
   "source": [
    "with COGReader(\"data/example_temp\") as image:\n",
    "    print(image.dataset)  # rasterio opened dataset\n",
    "    img = image.read()  \n",
    "    print(f\"Image crs: {image.crs}\")"
   ]
  },
  {
   "cell_type": "markdown",
   "id": "47623d1f-e970-44f6-ade3-34ba9aaf7e8e",
   "metadata": {},
   "source": [
    "I don't know that it's actually a bad CRS vs some other bug in the library (i.e. we definitely aren't going to have GCPs even if we define a CRS as far as I know), but I can at least try converting the CRS to say the WKT format and seeing if that changes anything."
   ]
  },
  {
   "cell_type": "code",
   "execution_count": 9,
   "id": "f865e2cd-d8d7-4ddd-8070-b27cf4b8e73f",
   "metadata": {},
   "outputs": [],
   "source": [
    "import cartopy.crs as ccrs\n",
    "\n",
    "projection = ccrs.LambertConformal(central_longitude=262.5, \n",
    "                                   central_latitude=38.5, \n",
    "                                   standard_parallels=(38.5, 38.5),\n",
    "                                    globe=ccrs.Globe(semimajor_axis=6371229,\n",
    "                                                     semiminor_axis=6371229))"
   ]
  },
  {
   "cell_type": "code",
   "execution_count": 10,
   "id": "493c08af-5b53-4c5a-b1f0-e4775d7ca8a6",
   "metadata": {},
   "outputs": [
    {
     "data": {
      "text/plain": [
       "'PROJCRS[\"unknown\",BASEGEOGCRS[\"unknown\",DATUM[\"unknown\",ELLIPSOID[\"unknown\",6371229,0,LENGTHUNIT[\"metre\",1,ID[\"EPSG\",9001]]]],PRIMEM[\"Greenwich\",0,ANGLEUNIT[\"degree\",0.0174532925199433],ID[\"EPSG\",8901]]],CONVERSION[\"unknown\",METHOD[\"Lambert Conic Conformal (2SP)\",ID[\"EPSG\",9802]],PARAMETER[\"Latitude of false origin\",38.5,ANGLEUNIT[\"degree\",0.0174532925199433],ID[\"EPSG\",8821]],PARAMETER[\"Longitude of false origin\",262.5,ANGLEUNIT[\"degree\",0.0174532925199433],ID[\"EPSG\",8822]],PARAMETER[\"Latitude of 1st standard parallel\",38.5,ANGLEUNIT[\"degree\",0.0174532925199433],ID[\"EPSG\",8823]],PARAMETER[\"Latitude of 2nd standard parallel\",38.5,ANGLEUNIT[\"degree\",0.0174532925199433],ID[\"EPSG\",8824]],PARAMETER[\"Easting at false origin\",0,LENGTHUNIT[\"metre\",1],ID[\"EPSG\",8826]],PARAMETER[\"Northing at false origin\",0,LENGTHUNIT[\"metre\",1],ID[\"EPSG\",8827]]],CS[Cartesian,2],AXIS[\"(E)\",east,ORDER[1],LENGTHUNIT[\"metre\",1,ID[\"EPSG\",9001]]],AXIS[\"(N)\",north,ORDER[2],LENGTHUNIT[\"metre\",1,ID[\"EPSG\",9001]]]]'"
      ]
     },
     "execution_count": 10,
     "metadata": {},
     "output_type": "execute_result"
    }
   ],
   "source": [
    "wkt = projection.to_wkt()\n",
    "wkt"
   ]
  },
  {
   "cell_type": "code",
   "execution_count": 17,
   "id": "07ff9433-93d4-4d67-96bc-41e27a4b4129",
   "metadata": {},
   "outputs": [
    {
     "name": "stderr",
     "output_type": "stream",
     "text": [
      "/opt/anaconda3/envs/titiler/lib/python3.8/site-packages/pyproj/crs/crs.py:1286: UserWarning: You will likely lose important projection information when converting to a PROJ string from another format. See: https://proj.org/faq.html#what-is-the-best-format-for-describing-coordinate-reference-systems\n",
      "  proj = self._crs.to_proj4(version=version)\n"
     ]
    },
    {
     "data": {
      "text/plain": [
       "'+proj=lcc +lat_0=38.5 +lon_0=262.5 +lat_1=38.5 +lat_2=38.5 +x_0=0 +y_0=0 +R=6371229 +units=m +no_defs +type=crs'"
      ]
     },
     "execution_count": 17,
     "metadata": {},
     "output_type": "execute_result"
    }
   ],
   "source": [
    "projection.to_proj4()"
   ]
  },
  {
   "cell_type": "code",
   "execution_count": 11,
   "id": "e1681352-b3b0-4ff1-a830-d86558eee05c",
   "metadata": {},
   "outputs": [],
   "source": [
    "temp.attrs[\"_CRS\"] = {\"wkt\": wkt}"
   ]
  },
  {
   "cell_type": "code",
   "execution_count": 12,
   "id": "820a85b1-0e29-4126-b31c-77a34211c714",
   "metadata": {
    "collapsed": true,
    "jupyter": {
     "outputs_hidden": true
    },
    "tags": []
   },
   "outputs": [
    {
     "name": "stdout",
     "output_type": "stream",
     "text": [
      "<open DatasetReader name='data/example_temp' mode='r'>\n"
     ]
    },
    {
     "name": "stderr",
     "output_type": "stream",
     "text": [
      "ERROR 1: Unable to compute a transformation between pixel/line and georeferenced coordinates for data/example_temp. There is no affine transformation and no GCPs. Specify transformation option SRC_METHOD=NO_GEOTRANSFORM to bypass this check.\n"
     ]
    },
    {
     "ename": "CPLE_AppDefinedError",
     "evalue": "Unable to compute a transformation between pixel/line and georeferenced coordinates for data/example_temp. There is no affine transformation and no GCPs. Specify transformation option SRC_METHOD=NO_GEOTRANSFORM to bypass this check.",
     "output_type": "error",
     "traceback": [
      "\u001b[0;31m---------------------------------------------------------------------------\u001b[0m",
      "\u001b[0;31mCPLE_AppDefinedError\u001b[0m                      Traceback (most recent call last)",
      "Input \u001b[0;32mIn [12]\u001b[0m, in \u001b[0;36m<cell line: 1>\u001b[0;34m()\u001b[0m\n\u001b[1;32m      1\u001b[0m \u001b[38;5;28;01mwith\u001b[39;00m COGReader(\u001b[38;5;124m\"\u001b[39m\u001b[38;5;124mdata/example_temp\u001b[39m\u001b[38;5;124m\"\u001b[39m) \u001b[38;5;28;01mas\u001b[39;00m image:\n\u001b[1;32m      2\u001b[0m     \u001b[38;5;28mprint\u001b[39m(image\u001b[38;5;241m.\u001b[39mdataset)  \u001b[38;5;66;03m# rasterio opened dataset\u001b[39;00m\n\u001b[0;32m----> 3\u001b[0m     img \u001b[38;5;241m=\u001b[39m \u001b[43mimage\u001b[49m\u001b[38;5;241;43m.\u001b[39;49m\u001b[43mread\u001b[49m\u001b[43m(\u001b[49m\u001b[43m)\u001b[49m  \n\u001b[1;32m      4\u001b[0m     \u001b[38;5;28mprint\u001b[39m(\u001b[38;5;124mf\u001b[39m\u001b[38;5;124m\"\u001b[39m\u001b[38;5;124mImage crs: \u001b[39m\u001b[38;5;132;01m{\u001b[39;00mimage\u001b[38;5;241m.\u001b[39mcrs\u001b[38;5;132;01m}\u001b[39;00m\u001b[38;5;124m\"\u001b[39m)\n",
      "File \u001b[0;32m/opt/anaconda3/envs/titiler/lib/python3.8/site-packages/rio_tiler/io/cogeo.py:641\u001b[0m, in \u001b[0;36mCOGReader.read\u001b[0;34m(self, indexes, expression, **kwargs)\u001b[0m\n\u001b[1;32m    638\u001b[0m \u001b[38;5;28;01mif\u001b[39;00m expression:\n\u001b[1;32m    639\u001b[0m     indexes \u001b[38;5;241m=\u001b[39m parse_expression(expression)\n\u001b[0;32m--> 641\u001b[0m data, mask \u001b[38;5;241m=\u001b[39m \u001b[43mreader\u001b[49m\u001b[38;5;241;43m.\u001b[39;49m\u001b[43mread\u001b[49m\u001b[43m(\u001b[49m\u001b[38;5;28;43mself\u001b[39;49m\u001b[38;5;241;43m.\u001b[39;49m\u001b[43mdataset\u001b[49m\u001b[43m,\u001b[49m\u001b[43m \u001b[49m\u001b[43mindexes\u001b[49m\u001b[38;5;241;43m=\u001b[39;49m\u001b[43mindexes\u001b[49m\u001b[43m,\u001b[49m\u001b[43m \u001b[49m\u001b[38;5;241;43m*\u001b[39;49m\u001b[38;5;241;43m*\u001b[39;49m\u001b[43mkwargs\u001b[49m\u001b[43m)\u001b[49m\n\u001b[1;32m    643\u001b[0m \u001b[38;5;28;01mif\u001b[39;00m expression \u001b[38;5;129;01mand\u001b[39;00m indexes:\n\u001b[1;32m    644\u001b[0m     blocks \u001b[38;5;241m=\u001b[39m get_expression_blocks(expression)\n",
      "File \u001b[0;32m/opt/anaconda3/envs/titiler/lib/python3.8/site-packages/rio_tiler/reader.py:79\u001b[0m, in \u001b[0;36mread\u001b[0;34m(src_dst, height, width, indexes, window, force_binary_mask, nodata, unscale, resampling_method, vrt_options, post_process)\u001b[0m\n\u001b[1;32m     76\u001b[0m \u001b[38;5;28;01mif\u001b[39;00m vrt_options:\n\u001b[1;32m     77\u001b[0m     vrt_params\u001b[38;5;241m.\u001b[39mupdate(vrt_options)\n\u001b[0;32m---> 79\u001b[0m \u001b[38;5;28;01mwith\u001b[39;00m \u001b[43mWarpedVRT\u001b[49m\u001b[43m(\u001b[49m\u001b[43msrc_dst\u001b[49m\u001b[43m,\u001b[49m\u001b[43m \u001b[49m\u001b[38;5;241;43m*\u001b[39;49m\u001b[38;5;241;43m*\u001b[39;49m\u001b[43mvrt_params\u001b[49m\u001b[43m)\u001b[49m \u001b[38;5;28;01mas\u001b[39;00m vrt:\n\u001b[1;32m     80\u001b[0m     \u001b[38;5;28;01mif\u001b[39;00m ColorInterp\u001b[38;5;241m.\u001b[39malpha \u001b[38;5;129;01min\u001b[39;00m vrt\u001b[38;5;241m.\u001b[39mcolorinterp:\n\u001b[1;32m     81\u001b[0m         indexes \u001b[38;5;241m=\u001b[39m \u001b[38;5;28mtuple\u001b[39m(indexes) \u001b[38;5;241m+\u001b[39m (vrt\u001b[38;5;241m.\u001b[39mcolorinterp\u001b[38;5;241m.\u001b[39mindex(ColorInterp\u001b[38;5;241m.\u001b[39malpha) \u001b[38;5;241m+\u001b[39m \u001b[38;5;241m1\u001b[39m,)\n",
      "File \u001b[0;32mrasterio/_warp.pyx:1021\u001b[0m, in \u001b[0;36mrasterio._warp.WarpedVRTReaderBase.__init__\u001b[0;34m()\u001b[0m\n",
      "File \u001b[0;32mrasterio/_warp.pyx:774\u001b[0m, in \u001b[0;36mrasterio._warp.auto_create_warped_vrt\u001b[0;34m()\u001b[0m\n",
      "File \u001b[0;32mrasterio/_warp.pyx:768\u001b[0m, in \u001b[0;36mrasterio._warp.auto_create_warped_vrt\u001b[0;34m()\u001b[0m\n",
      "File \u001b[0;32mrasterio/_err.pyx:178\u001b[0m, in \u001b[0;36mrasterio._err.exc_wrap\u001b[0;34m()\u001b[0m\n",
      "\u001b[0;31mCPLE_AppDefinedError\u001b[0m: Unable to compute a transformation between pixel/line and georeferenced coordinates for data/example_temp. There is no affine transformation and no GCPs. Specify transformation option SRC_METHOD=NO_GEOTRANSFORM to bypass this check."
     ]
    }
   ],
   "source": [
    "with COGReader(\"data/example_temp\") as image:\n",
    "    print(image.dataset)  # rasterio opened dataset\n",
    "    img = image.read()  \n",
    "    print(f\"Image crs: {image.crs}\")"
   ]
  },
  {
   "cell_type": "markdown",
   "id": "31b3aa93-1ff4-4f2e-a7f0-e948862de267",
   "metadata": {},
   "source": [
    "Okay, so I'm still getting the same error, but the CRS is probably as good as it can be for this dataset. I'm going to check to see if gdal can at least read this zarr (with its CRS), and, if not, if another dataset with a more standard CRS (such as an EPSG) is readable."
   ]
  },
  {
   "cell_type": "code",
   "execution_count": 15,
   "id": "ba295341-54c4-42c7-92da-a31c8574a710",
   "metadata": {},
   "outputs": [
    {
     "name": "stdout",
     "output_type": "stream",
     "text": [
      "Input file size is 1799, 1059\n",
      "0...10...20...30...40...50...60...70...80...90...100 - done.\n"
     ]
    }
   ],
   "source": [
    "! /opt/anaconda3/envs/titiler/bin/gdal_translate 'ZARR:\"data/example_temp\"' out.tif"
   ]
  },
  {
   "cell_type": "code",
   "execution_count": 16,
   "id": "cd5486ab-cf17-4b9e-90d1-5eb4ec8217c7",
   "metadata": {},
   "outputs": [
    {
     "name": "stdout",
     "output_type": "stream",
     "text": [
      "{\n",
      "  \"type\": \"group\",\n",
      "  \"driver\": \"Zarr\",\n",
      "  \"name\": \"/\",\n",
      "  \"attributes\": {\n",
      "    \"_CRS\": {\n",
      "      \"wkt\": \"PROJCRS[\\\"unknown\\\",BASEGEOGCRS[\\\"unknown\\\",DATUM[\\\"unknown\\\",ELLIPSOID[\\\"unknown\\\",6371229,0,LENGTHUNIT[\\\"metre\\\",1,ID[\\\"EPSG\\\",9001]]]],PRIMEM[\\\"Greenwich\\\",0,ANGLEUNIT[\\\"degree\\\",0.0174532925199433],ID[\\\"EPSG\\\",8901]]],CONVERSION[\\\"unknown\\\",METHOD[\\\"Lambert Conic Conformal (2SP)\\\",ID[\\\"EPSG\\\",9802]],PARAMETER[\\\"Latitude of false origin\\\",38.5,ANGLEUNIT[\\\"degree\\\",0.0174532925199433],ID[\\\"EPSG\\\",8821]],PARAMETER[\\\"Longitude of false origin\\\",262.5,ANGLEUNIT[\\\"degree\\\",0.0174532925199433],ID[\\\"EPSG\\\",8822]],PARAMETER[\\\"Latitude of 1st standard parallel\\\",38.5,ANGLEUNIT[\\\"degree\\\",0.0174532925199433],ID[\\\"EPSG\\\",8823]],PARAMETER[\\\"Latitude of 2nd standard parallel\\\",38.5,ANGLEUNIT[\\\"degree\\\",0.0174532925199433],ID[\\\"EPSG\\\",8824]],PARAMETER[\\\"Easting at false origin\\\",0,LENGTHUNIT[\\\"metre\\\",1],ID[\\\"EPSG\\\",8826]],PARAMETER[\\\"Northing at false origin\\\",0,LENGTHUNIT[\\\"metre\\\",1],ID[\\\"EPSG\\\",8827]]],CS[Cartesian,2],AXIS[\\\"(E)\\\",east,ORDER[1],LENGTHUNIT[\\\"metre\\\",1,ID[\\\"EPSG\\\",9001]]],AXIS[\\\"(N)\\\",north,ORDER[2],LENGTHUNIT[\\\"metre\\\",1,ID[\\\"EPSG\\\",9001]]]]\"\n",
      "    }\n",
      "  },\n",
      "  \"arrays\": {\n",
      "    \"TMP\": {\n",
      "      \"datatype\": \"Float32\",\n",
      "      \"dimensions\": [\n",
      "        {\n",
      "          \"name\": \"dim0\",\n",
      "          \"full_name\": \"dim0\",\n",
      "          \"size\": 1059\n",
      "        },\n",
      "        {\n",
      "          \"name\": \"dim1\",\n",
      "          \"full_name\": \"dim1\",\n",
      "          \"size\": 1799\n",
      "        }\n",
      "      ],\n",
      "      \"dimension_size\": [\n",
      "        1059,\n",
      "        1799\n",
      "      ],\n",
      "      \"block_size\": [\n",
      "        265,\n",
      "        900\n",
      "      ],\n",
      "      \"nodata_value\": 0\n",
      "    }\n",
      "  }\n",
      "}\n"
     ]
    }
   ],
   "source": [
    "! /opt/anaconda3/envs/titiler/bin/gdalmdiminfo data/example_temp"
   ]
  },
  {
   "cell_type": "markdown",
   "id": "2b36eed4-c832-4675-941c-6da72eefa6a1",
   "metadata": {},
   "source": [
    "So, unfortunately this has created a geotiff that doesn't have a CRS and that doesn't display correctly (it's way too small) even when manually given the CRS in QGIS. Did I specify this wrong somehow in the attrs or is the library broken or does it not use this non-standard CRS?\n",
    "\n",
    "I can try:\n",
    "\n",
    "- Loading a different example. Not sure where to find one, will check the gdal zarr driver tests if possible (have googled without results though I did find an interesting [conversation](https://github.com/pydata/xarray/issues/6448)). If that doesn't work, I'll just find some standard dataset and convert it into the format I need to check.\n",
    "- Maybe posting on StackOverflow? The gdal github says not to ask questions there. They have a listserv but I didn't see a web-viewable archive to it and I really don't want to actually subscribe."
   ]
  }
 ],
 "metadata": {
  "kernelspec": {
   "display_name": "titiler",
   "language": "python",
   "name": "titiler"
  },
  "language_info": {
   "codemirror_mode": {
    "name": "ipython",
    "version": 3
   },
   "file_extension": ".py",
   "mimetype": "text/x-python",
   "name": "python",
   "nbconvert_exporter": "python",
   "pygments_lexer": "ipython3",
   "version": "3.8.13"
  }
 },
 "nbformat": 4,
 "nbformat_minor": 5
}
