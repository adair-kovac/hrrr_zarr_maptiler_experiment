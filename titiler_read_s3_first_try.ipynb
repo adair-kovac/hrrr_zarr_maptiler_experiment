{
 "cells": [
  {
   "cell_type": "code",
   "execution_count": null,
   "id": "51d9be3f-b36a-4525-b5e8-c58e367ba1c3",
   "metadata": {},
   "outputs": [],
   "source": []
  },
  {
   "cell_type": "code",
   "execution_count": 11,
   "id": "44c764c0-e29b-4e4b-b962-fcdb5f3fffb1",
   "metadata": {},
   "outputs": [
    {
     "name": "stdout",
     "output_type": "stream",
     "text": [
      "/opt/anaconda3/envs/titiler/share/proj\n"
     ]
    }
   ],
   "source": [
    "import os\n",
    "import pyproj\n",
    "os.environ[\"PROJ_LIB\"] = \"/opt/anaconda3/envs/titiler/share/proj\"\n",
    "print(os.environ[\"PROJ_LIB\"])\n",
    "pyproj.datadir.set_data_dir(\"/opt/anaconda3/envs/titiler/share/proj\")"
   ]
  },
  {
   "cell_type": "code",
   "execution_count": 2,
   "id": "0aadaf1b-c1f0-4033-8eba-a15d493cad27",
   "metadata": {},
   "outputs": [],
   "source": [
    "# import pyproj as pyproj\n",
    "# print(pyproj.datadir.get_data_dir())\n",
    "# pyproj.datadir.set_data_dir(\"/opt/anaconda3/envs/titiler/share/proj\")\n",
    "# pyproj.set_use_global_context(\"/opt/anaconda3/envs/titiler/share/proj\")\n",
    "# print(pyproj.datadir.get_data_dir())\n"
   ]
  },
  {
   "cell_type": "code",
   "execution_count": 12,
   "id": "b68342a8-d06e-4ddf-97c1-2c2b444674dc",
   "metadata": {
    "collapsed": true,
    "jupyter": {
     "outputs_hidden": true
    },
    "tags": []
   },
   "outputs": [
    {
     "name": "stdout",
     "output_type": "stream",
     "text": [
      "3.1.6\n",
      "<open DatasetReader name='s3://hrrrzarr/sfc/20210101/20210101_00z_anl.zarr/surface/TMP/surface' mode='r'>\n"
     ]
    },
    {
     "name": "stderr",
     "output_type": "stream",
     "text": [
      "ERROR 1: Unable to compute a transformation between pixel/line and georeferenced coordinates for /vsis3/hrrrzarr/sfc/20210101/20210101_00z_anl.zarr/surface/TMP/surface. There is no affine transformation and no GCPs. Specify transformation option SRC_METHOD=NO_GEOTRANSFORM to bypass this check.\n"
     ]
    },
    {
     "ename": "CPLE_AppDefinedError",
     "evalue": "Unable to compute a transformation between pixel/line and georeferenced coordinates for /vsis3/hrrrzarr/sfc/20210101/20210101_00z_anl.zarr/surface/TMP/surface. There is no affine transformation and no GCPs. Specify transformation option SRC_METHOD=NO_GEOTRANSFORM to bypass this check.",
     "output_type": "error",
     "traceback": [
      "\u001B[0;31m---------------------------------------------------------------------------\u001B[0m",
      "\u001B[0;31mCPLE_AppDefinedError\u001B[0m                      Traceback (most recent call last)",
      "Input \u001B[0;32mIn [12]\u001B[0m, in \u001B[0;36m<cell line: 15>\u001B[0;34m()\u001B[0m\n\u001B[1;32m     15\u001B[0m \u001B[38;5;28;01mwith\u001B[39;00m COGReader(\u001B[38;5;124m\"\u001B[39m\u001B[38;5;124ms3://hrrrzarr/sfc/20210101/20210101_00z_anl.zarr/surface/TMP/surface/\u001B[39m\u001B[38;5;124m\"\u001B[39m) \u001B[38;5;28;01mas\u001B[39;00m image:\n\u001B[1;32m     16\u001B[0m     \u001B[38;5;28mprint\u001B[39m(image\u001B[38;5;241m.\u001B[39mdataset)  \u001B[38;5;66;03m# rasterio opened dataset\u001B[39;00m\n\u001B[0;32m---> 17\u001B[0m     img \u001B[38;5;241m=\u001B[39m \u001B[43mimage\u001B[49m\u001B[38;5;241;43m.\u001B[39;49m\u001B[43mread\u001B[49m\u001B[43m(\u001B[49m\u001B[43m)\u001B[49m  \n\u001B[1;32m     18\u001B[0m     \u001B[38;5;28mprint\u001B[39m(\u001B[38;5;124mf\u001B[39m\u001B[38;5;124m\"\u001B[39m\u001B[38;5;124mImage crs: \u001B[39m\u001B[38;5;132;01m{\u001B[39;00mimage\u001B[38;5;241m.\u001B[39mcrs\u001B[38;5;132;01m}\u001B[39;00m\u001B[38;5;124m\"\u001B[39m)\n",
      "File \u001B[0;32m/opt/anaconda3/envs/titiler/lib/python3.8/site-packages/rio_tiler/io/cogeo.py:641\u001B[0m, in \u001B[0;36mCOGReader.read\u001B[0;34m(self, indexes, expression, **kwargs)\u001B[0m\n\u001B[1;32m    638\u001B[0m \u001B[38;5;28;01mif\u001B[39;00m expression:\n\u001B[1;32m    639\u001B[0m     indexes \u001B[38;5;241m=\u001B[39m parse_expression(expression)\n\u001B[0;32m--> 641\u001B[0m data, mask \u001B[38;5;241m=\u001B[39m \u001B[43mreader\u001B[49m\u001B[38;5;241;43m.\u001B[39;49m\u001B[43mread\u001B[49m\u001B[43m(\u001B[49m\u001B[38;5;28;43mself\u001B[39;49m\u001B[38;5;241;43m.\u001B[39;49m\u001B[43mdataset\u001B[49m\u001B[43m,\u001B[49m\u001B[43m \u001B[49m\u001B[43mindexes\u001B[49m\u001B[38;5;241;43m=\u001B[39;49m\u001B[43mindexes\u001B[49m\u001B[43m,\u001B[49m\u001B[43m \u001B[49m\u001B[38;5;241;43m*\u001B[39;49m\u001B[38;5;241;43m*\u001B[39;49m\u001B[43mkwargs\u001B[49m\u001B[43m)\u001B[49m\n\u001B[1;32m    643\u001B[0m \u001B[38;5;28;01mif\u001B[39;00m expression \u001B[38;5;129;01mand\u001B[39;00m indexes:\n\u001B[1;32m    644\u001B[0m     blocks \u001B[38;5;241m=\u001B[39m get_expression_blocks(expression)\n",
      "File \u001B[0;32m/opt/anaconda3/envs/titiler/lib/python3.8/site-packages/rio_tiler/reader.py:79\u001B[0m, in \u001B[0;36mread\u001B[0;34m(src_dst, height, width, indexes, window, force_binary_mask, nodata, unscale, resampling_method, vrt_options, post_process)\u001B[0m\n\u001B[1;32m     76\u001B[0m \u001B[38;5;28;01mif\u001B[39;00m vrt_options:\n\u001B[1;32m     77\u001B[0m     vrt_params\u001B[38;5;241m.\u001B[39mupdate(vrt_options)\n\u001B[0;32m---> 79\u001B[0m \u001B[38;5;28;01mwith\u001B[39;00m \u001B[43mWarpedVRT\u001B[49m\u001B[43m(\u001B[49m\u001B[43msrc_dst\u001B[49m\u001B[43m,\u001B[49m\u001B[43m \u001B[49m\u001B[38;5;241;43m*\u001B[39;49m\u001B[38;5;241;43m*\u001B[39;49m\u001B[43mvrt_params\u001B[49m\u001B[43m)\u001B[49m \u001B[38;5;28;01mas\u001B[39;00m vrt:\n\u001B[1;32m     80\u001B[0m     \u001B[38;5;28;01mif\u001B[39;00m ColorInterp\u001B[38;5;241m.\u001B[39malpha \u001B[38;5;129;01min\u001B[39;00m vrt\u001B[38;5;241m.\u001B[39mcolorinterp:\n\u001B[1;32m     81\u001B[0m         indexes \u001B[38;5;241m=\u001B[39m \u001B[38;5;28mtuple\u001B[39m(indexes) \u001B[38;5;241m+\u001B[39m (vrt\u001B[38;5;241m.\u001B[39mcolorinterp\u001B[38;5;241m.\u001B[39mindex(ColorInterp\u001B[38;5;241m.\u001B[39malpha) \u001B[38;5;241m+\u001B[39m \u001B[38;5;241m1\u001B[39m,)\n",
      "File \u001B[0;32mrasterio/_warp.pyx:1021\u001B[0m, in \u001B[0;36mrasterio._warp.WarpedVRTReaderBase.__init__\u001B[0;34m()\u001B[0m\n",
      "File \u001B[0;32mrasterio/_warp.pyx:774\u001B[0m, in \u001B[0;36mrasterio._warp.auto_create_warped_vrt\u001B[0;34m()\u001B[0m\n",
      "File \u001B[0;32mrasterio/_warp.pyx:768\u001B[0m, in \u001B[0;36mrasterio._warp.auto_create_warped_vrt\u001B[0;34m()\u001B[0m\n",
      "File \u001B[0;32mrasterio/_err.pyx:178\u001B[0m, in \u001B[0;36mrasterio._err.exc_wrap\u001B[0;34m()\u001B[0m\n",
      "\u001B[0;31mCPLE_AppDefinedError\u001B[0m: Unable to compute a transformation between pixel/line and georeferenced coordinates for /vsis3/hrrrzarr/sfc/20210101/20210101_00z_anl.zarr/surface/TMP/surface. There is no affine transformation and no GCPs. Specify transformation option SRC_METHOD=NO_GEOTRANSFORM to bypass this check."
     ]
    }
   ],
   "source": [
    "from rio_tiler.io import COGReader\n",
    "import rasterio\n",
    "import rio_tiler\n",
    "\n",
    "print(rio_tiler.__version__)\n",
    "\n",
    "proj_params = {'a': 6371229,\n",
    "   'b': 6371229,\n",
    "   'proj': 'lcc',\n",
    "   'lon_0': 262.5,\n",
    "   'lat_0': 38.5,\n",
    "   'lat_1': 38.5,\n",
    "   'lat_2': 38.5}\n",
    "\n",
    "with COGReader(\"s3://hrrrzarr/sfc/20210101/20210101_00z_anl.zarr/surface/TMP/surface/\") as image:\n",
    "    print(image.dataset)  # rasterio opened dataset\n",
    "    img = image.read()  \n",
    "    print(f\"Image crs: {image.crs}\")"
   ]
  },
  {
   "cell_type": "code",
   "execution_count": 6,
   "id": "489bd9e8-883a-4627-b4e8-4a18a952071b",
   "metadata": {},
   "outputs": [
    {
     "data": {
      "text/plain": [
       "ImageData(data=array([[[283.  , 283.  , 283.  , ..., 275.5 , 275.5 , 275.5 ],\n",
       "        [283.  , 283.  , 283.  , ..., 275.5 , 275.5 , 275.5 ],\n",
       "        [283.  , 283.  , 283.  , ..., 275.5 , 275.5 , 275.5 ],\n",
       "        ...,\n",
       "        [295.25, 295.25, 295.25, ..., 299.5 , 299.5 , 299.5 ],\n",
       "        [295.25, 295.25, 295.25, ..., 299.5 , 299.5 , 299.5 ],\n",
       "        [295.25, 295.25, 295.25, ..., 299.5 , 299.5 , 299.5 ]]],\n",
       "      dtype=float32), mask=array([[255, 255, 255, ..., 255, 255, 255],\n",
       "       [255, 255, 255, ..., 255, 255, 255],\n",
       "       [255, 255, 255, ..., 255, 255, 255],\n",
       "       ...,\n",
       "       [255, 255, 255, ..., 255, 255, 255],\n",
       "       [255, 255, 255, ..., 255, 255, 255],\n",
       "       [255, 255, 255, ..., 255, 255, 255]], dtype=uint8), assets=['s3://hrrrzarr/sfc/20210101/20210101_00z_anl.zarr/surface/TMP/surface/TMP'], bounds=BoundingBox(left=-2699020.1425219304, bottom=1588193.8474433364, right=2697979.8574780696, top=-1588806.1525566636), crs=None, metadata={}, band_names=['1'])"
      ]
     },
     "execution_count": 6,
     "metadata": {},
     "output_type": "execute_result"
    }
   ],
   "source": [
    "img"
   ]
  },
  {
   "cell_type": "code",
   "execution_count": null,
   "id": "504edf8c-f375-4844-8c90-ac783670b7d2",
   "metadata": {},
   "outputs": [],
   "source": []
  },
  {
   "cell_type": "code",
   "execution_count": 8,
   "id": "84a3f481-cb68-4a05-8110-0681643bbfa6",
   "metadata": {},
   "outputs": [
    {
     "data": {
      "text/plain": [
       "<matplotlib.image.AxesImage at 0x7fd15892b520>"
      ]
     },
     "execution_count": 8,
     "metadata": {},
     "output_type": "execute_result"
    },
    {
     "data": {
      "image/png": "[encoded data removed]",
      "text/plain": [
       "<Figure size 432x288 with 1 Axes>"
      ]
     },
     "metadata": {
      "needs_background": "light"
     },
     "output_type": "display_data"
    }
   ],
   "source": [
    "import matplotlib.pyplot as plt\n",
    "\n",
    "plt.imshow(img.data[0,:,:])"
   ]
  },
  {
   "cell_type": "markdown",
   "id": "6534b077-72f7-46c9-80e0-72a371d4e650",
   "metadata": {},
   "source": [
    "Can I get the titiler stuff to work? [Demo](https://developmentseed.org/titiler/examples/notebooks/Working_with_CloudOptimizedGeoTIFF_simple/)"
   ]
  },
  {
   "cell_type": "code",
   "execution_count": null,
   "id": "9b0cba00-8e09-4393-92b2-2bf21972c382",
   "metadata": {
    "tags": []
   },
   "outputs": [],
   "source": [
    "import json\n",
    "import httpx\n",
    "from folium import Map, TileLayer\n",
    "\n",
    "%pylab inline"
   ]
  },
  {
   "cell_type": "code",
   "execution_count": null,
   "id": "66d1a841-3099-456e-acfd-8a188a0f08b6",
   "metadata": {},
   "outputs": [],
   "source": [
    "#titiler_endpoint = \"https://titiler.xyz\"  # Developmentseed Demo endpoint. Please be kind.\n",
    "titiler_endpoint = \"http://127.0.0.1:8000\"\n",
    "oil_url = \"https://opendata.digitalglobe.com/events/mauritius-oil-spill/post-event/2020-08-12/105001001F1B5B00/105001001F1B5B00.tif\"\n",
    "hrrr_url = \"s3://hrrrzarr/sfc/20210101/20210101_00z_anl.zarr/surface/TMP/surface/TMP\""
   ]
  },
  {
   "cell_type": "code",
   "execution_count": null,
   "id": "b2451d2d-e463-4ed3-8d4c-b3ff114d7678",
   "metadata": {
    "tags": []
   },
   "outputs": [],
   "source": [
    "# Fetch File Metadata to get min/max rescaling values (because the file is stored as float32)\n",
    "oil_r = httpx.get(\n",
    "    f\"{titiler_endpoint}/cog/info\",\n",
    "    params = {\n",
    "        \"url\": oil_url,\n",
    "    }\n",
    ").json()\n",
    "\n",
    "oil_bounds = oil_r[\"bounds\"]\n",
    "print(oil_r)\n",
    "\n",
    "# Fetch File Metadata to get min/max rescaling values (because the file is stored as float32)\n",
    "hrrr_r = httpx.get(\n",
    "    f\"{titiler_endpoint}/cog/info\",\n",
    "    params = {\n",
    "        \"url\": hrrr_url,\n",
    "    },\n",
    "    timeout=60\n",
    ").json()\n",
    "\n",
    "\n",
    "print(hrrr_r)\n",
    "hrrr_bounds = hrrr_r[\"bounds\"]"
   ]
  },
  {
   "cell_type": "code",
   "execution_count": null,
   "id": "f383d71e-3d4b-48ef-9553-2a1d003f1f4b",
   "metadata": {},
   "outputs": [],
   "source": [
    "# Fetch File Metadata to get min/max rescaling values (because the file is stored as float32)\n",
    "oil_r = httpx.get(\n",
    "    f\"{titiler_endpoint}/cog/statistics\",\n",
    "    params = {\n",
    "        \"url\": oil_url,\n",
    "    },\n",
    "    timeout=10\n",
    ").json()\n",
    "\n",
    "print(json.dumps(oil_r, indent=4))\n",
    "\n",
    "# Fetch File Metadata to get min/max rescaling values (because the file is stored as float32)\n",
    "hrrr_r = httpx.get(\n",
    "    f\"{titiler_endpoint}/cog/statistics\",\n",
    "    params = {\n",
    "        \"url\": hrrr_url,\n",
    "    },\n",
    "    timeout=200\n",
    ").json()\n",
    "\n",
    "print(json.dumps(hrrr_r, indent=4))"
   ]
  },
  {
   "cell_type": "code",
   "execution_count": null,
   "id": "6d51451a-d81f-4a45-9e38-71e06f027579",
   "metadata": {},
   "outputs": [],
   "source": [
    "r = httpx.get(\n",
    "    f\"{titiler_endpoint}/cog/tilejson.json\",\n",
    "    params = {\n",
    "        \"url\": hrrr_url,\n",
    "    },\n",
    "    timeout=200\n",
    ").json()\n",
    "print(r)\n",
    "\n",
    "m = Map(\n",
    "    location=((bounds[1] + bounds[3]) / 2,(bounds[0] + bounds[2]) / 2),\n",
    "    zoom_start=13\n",
    ")\n",
    "\n",
    "aod_layer = TileLayer(\n",
    "    tiles=r[\"tiles\"][0],\n",
    "    opacity=1,\n",
    "    attr=\"DigitalGlobe OpenData\"\n",
    ")\n",
    "aod_layer.add_to(m)\n",
    "m"
   ]
  },
  {
   "cell_type": "code",
   "execution_count": null,
   "id": "465dabea-4ca9-4858-9a7d-63b341fdd024",
   "metadata": {},
   "outputs": [],
   "source": [
    "\n",
    "url = \"https://data.geo.admin.ch/ch.swisstopo.swissalti3d/swissalti3d_2019_2573-1085/swissalti3d_2019_2573-1085_0.5_2056_5728.tif\"\n",
    "\n",
    "# Fetch File Metadata to get min/max rescaling values (because the file is stored as float32)\n",
    "r = httpx.get(\n",
    "    f\"{titiler_endpoint}/cog/info\",\n",
    "    params = {\n",
    "        \"url\": url,\n",
    "    }\n",
    ").json()\n",
    "\n",
    "print(r)\n",
    "print(\"Data is of type:\", r[\"dtype\"])\n",
    "\n",
    "# This dataset has statistics metadata\n",
    "minv, maxv = r[\"band_metadata\"][0][1][\"STATISTICS_MINIMUM\"], r[\"band_metadata\"][0][1][\"STATISTICS_MAXIMUM\"]\n",
    "print(\"With values from \", minv, \"to \", maxv)\n",
    "\n"
   ]
  },
  {
   "cell_type": "code",
   "execution_count": null,
   "id": "90c8a510-7138-4746-9502-20ba3e0882d5",
   "metadata": {},
   "outputs": [],
   "source": [
    "# We could get the min/max values using the statistics endpoint\n",
    "r = httpx.get(\n",
    "    f\"{titiler_endpoint}/cog/statistics\",\n",
    "    params = {\n",
    "        \"url\": url,\n",
    "    }\n",
    ").json()\n",
    "\n",
    "print(json.dumps(r[\"1\"], indent=4))"
   ]
  },
  {
   "cell_type": "code",
   "execution_count": null,
   "id": "39dc90cc-642d-4fc3-bf11-7f4e50fb1990",
   "metadata": {},
   "outputs": [],
   "source": [
    "r = httpx.get(\n",
    "    f\"{titiler_endpoint}/cog/tilejson.json\",\n",
    "    params = {\n",
    "        \"url\": url,\n",
    "    }\n",
    ").json()\n",
    "\n",
    "bounds = r[\"bounds\"]\n",
    "m = Map(\n",
    "    location=((bounds[1] + bounds[3]) / 2,(bounds[0] + bounds[2]) / 2),\n",
    "    zoom_start=r[\"minzoom\"] + 1\n",
    ")\n",
    "\n",
    "aod_layer = TileLayer(\n",
    "    tiles=r[\"tiles\"][0],\n",
    "    opacity=1,\n",
    "    attr=\"Swisstopo\"\n",
    ")\n",
    "aod_layer.add_to(m)\n",
    "m"
   ]
  },
  {
   "cell_type": "code",
   "execution_count": null,
   "id": "fc6d77ae-7f53-49f8-b2da-0527eb77daf8",
   "metadata": {},
   "outputs": [],
   "source": [
    "r = httpx.get(\n",
    "    f\"{titiler_endpoint}/cog/tilejson.json\",\n",
    "    params = {\n",
    "        \"url\": url,\n",
    "        \"rescale\": f\"{minv},{maxv}\"\n",
    "    }\n",
    ").json()\n",
    "\n",
    "bounds = r[\"bounds\"]\n",
    "m = Map(\n",
    "    location=((bounds[1] + bounds[3]) / 2,(bounds[0] + bounds[2]) / 2),\n",
    "    zoom_start=r[\"minzoom\"] + 1\n",
    ")\n",
    "\n",
    "aod_layer = TileLayer(\n",
    "    tiles=r[\"tiles\"][0],\n",
    "    opacity=1,\n",
    "    attr=\"Swisstopo\"\n",
    ")\n",
    "aod_layer.add_to(m)\n",
    "m"
   ]
  },
  {
   "cell_type": "code",
   "execution_count": null,
   "id": "aebac738-074e-4769-8a28-d8d0953ff9f8",
   "metadata": {},
   "outputs": [],
   "source": [
    "r = httpx.get(\n",
    "    f\"{titiler_endpoint}/cog/tilejson.json\",\n",
    "    params = {\n",
    "        \"url\": url,\n",
    "        \"rescale\": f\"{minv},{maxv}\",\n",
    "        \"colormap_name\": \"terrain\"\n",
    "    }\n",
    ").json()\n",
    "\n",
    "bounds = r[\"bounds\"]\n",
    "m = Map(\n",
    "    location=((bounds[1] + bounds[3]) / 2,(bounds[0] + bounds[2]) / 2),\n",
    "    zoom_start=r[\"minzoom\"] + 1\n",
    ")\n",
    "\n",
    "aod_layer = TileLayer(\n",
    "    tiles=r[\"tiles\"][0],\n",
    "    opacity=1,\n",
    "    attr=\"Swisstopo\"\n",
    ")\n",
    "aod_layer.add_to(m)\n",
    "m"
   ]
  },
  {
   "cell_type": "code",
   "execution_count": null,
   "id": "12f42836-eb55-4472-bad7-88ee5331a35c",
   "metadata": {},
   "outputs": [],
   "source": [
    "import json\n",
    "\n",
    "cmap = json.dumps(\n",
    "    [\n",
    "        # ([min, max], [r, g, b, a])\n",
    "        ([0, 1500], [255,255,204, 255]),\n",
    "        ([1500, 1700], [161,218,180, 255]),\n",
    "        ([1700, 1900], [65,182,196, 255]),\n",
    "        ([1900, 2000], [44,127,184, 255]),\n",
    "        ([2000, 3000], [37,52,148, 255]),\n",
    "    ]\n",
    ")\n",
    "# https://colorbrewer2.org/#type=sequential&scheme=YlGnBu&n=5\n",
    "\n",
    "r = httpx.get(\n",
    "    f\"{titiler_endpoint}/cog/tilejson.json\",\n",
    "    params = {\n",
    "        \"url\": url,\n",
    "        \"colormap\": cmap\n",
    "    }\n",
    ").json()\n",
    "\n",
    "bounds = r[\"bounds\"]\n",
    "m = Map(\n",
    "    location=((bounds[1] + bounds[3]) / 2,(bounds[0] + bounds[2]) / 2),\n",
    "    zoom_start=r[\"minzoom\"] + 1\n",
    ")\n",
    "\n",
    "aod_layer = TileLayer(\n",
    "    tiles=r[\"tiles\"][0],\n",
    "    opacity=1,\n",
    "    attr=\"Swisstopo\"\n",
    ")\n",
    "aod_layer.add_to(m)\n",
    "m"
   ]
  },
  {
   "cell_type": "markdown",
   "id": "5be8ffbc-3769-475d-890f-b50eed04a96c",
   "metadata": {},
   "source": [
    "[NumpyTile demo](https://developmentseed.org/titiler/examples/notebooks/Working_with_NumpyTile/)"
   ]
  },
  {
   "cell_type": "code",
   "execution_count": null,
   "id": "a85c337e-4d2f-44db-85c4-bcde7ec132f8",
   "metadata": {},
   "outputs": [],
   "source": [
    "import httpx\n",
    "import mercantile\n",
    "from io import BytesIO\n",
    "import numpy"
   ]
  },
  {
   "cell_type": "code",
   "execution_count": null,
   "id": "8e676fe3-0add-4edd-997a-6fa051357a82",
   "metadata": {},
   "outputs": [],
   "source": [
    "titiler_endpoint = \"https://titiler.xyz\"  # Developmentseed Demo endpoint. Please be kind.\n",
    "url = \"https://opendata.digitalglobe.com/events/mauritius-oil-spill/post-event/2020-08-12/105001001F1B5B00/105001001F1B5B00.tif\""
   ]
  },
  {
   "cell_type": "code",
   "execution_count": null,
   "id": "a7dc0c35-759c-4281-805d-f4ee63792e9b",
   "metadata": {},
   "outputs": [],
   "source": [
    "r = httpx.get(f\"{titiler_endpoint}/cog/tilejson.json?url={url}\").json()\n",
    "print(r)"
   ]
  },
  {
   "cell_type": "code",
   "execution_count": null,
   "id": "4a50a6af-b4dd-470b-95a3-d0664b022245",
   "metadata": {},
   "outputs": [],
   "source": [
    "# Get a list of tiles for minzoom + 2\n",
    "\n",
    "tiles = list(mercantile.tiles(*r[\"bounds\"], r[\"minzoom\"] + 2))"
   ]
  },
  {
   "cell_type": "code",
   "execution_count": null,
   "id": "8fc5b03e-002b-4de5-b465-855e1ee2dc9f",
   "metadata": {},
   "outputs": [],
   "source": [
    "# Call TiTiler endpoint using the first tile\n",
    "\n",
    "tile = tiles[0]\n",
    "r = httpx.get(f\"{titiler_endpoint}/cog/tiles/{tile.z}/{tile.x}/{tile.y}.npy?url={url}\")"
   ]
  },
  {
   "cell_type": "code",
   "execution_count": null,
   "id": "30b540f7-e1a9-4f3b-a44d-e653dbbe8726",
   "metadata": {},
   "outputs": [],
   "source": [
    "# Load result using numpy.load\n",
    "\n",
    "arr = numpy.load(BytesIO(r.content))\n",
    "print(type(arr))\n",
    "print(arr.shape)"
   ]
  },
  {
   "cell_type": "code",
   "execution_count": null,
   "id": "e0b44972-360b-4e71-a8ac-18def3017133",
   "metadata": {},
   "outputs": [],
   "source": [
    "# By default we put the data and the mask in the same array\n",
    "tile, mask = arr[0:-1], arr[-1]"
   ]
  },
  {
   "cell_type": "code",
   "execution_count": null,
   "id": "b506dc86-428b-47d5-b4a6-678ee5423204",
   "metadata": {},
   "outputs": [],
   "source": [
    "print(tile.shape)"
   ]
  },
  {
   "cell_type": "code",
   "execution_count": null,
   "id": "f75facce-690c-4fde-bc54-41d95d70e79b",
   "metadata": {},
   "outputs": [],
   "source": [
    "print(mask.shape)"
   ]
  },
  {
   "cell_type": "code",
   "execution_count": null,
   "id": "c7e280b6-21e1-4b34-9183-35d1e1eb3627",
   "metadata": {},
   "outputs": [],
   "source": []
  }
 ],
 "metadata": {
  "kernelspec": {
   "display_name": "titiler",
   "language": "python",
   "name": "titiler"
  },
  "language_info": {
   "codemirror_mode": {
    "name": "ipython",
    "version": 3
   },
   "file_extension": ".py",
   "mimetype": "text/x-python",
   "name": "python",
   "nbconvert_exporter": "python",
   "pygments_lexer": "ipython3",
   "version": "3.8.13"
  }
 },
 "nbformat": 4,
 "nbformat_minor": 5
}